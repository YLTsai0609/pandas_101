{
 "cells": [
  {
   "cell_type": "code",
   "execution_count": 9,
   "id": "bf6c9771",
   "metadata": {
    "ExecuteTime": {
     "end_time": "2023-03-01T14:52:54.974913Z",
     "start_time": "2023-03-01T14:52:54.958381Z"
    }
   },
   "outputs": [],
   "source": [
    "%config Completer.use_jedi = False"
   ]
  },
  {
   "cell_type": "code",
   "execution_count": 10,
   "id": "c8e81b66",
   "metadata": {
    "ExecuteTime": {
     "end_time": "2023-03-01T14:52:55.122960Z",
     "start_time": "2023-03-01T14:52:55.113461Z"
    }
   },
   "outputs": [
    {
     "name": "stdout",
     "output_type": "stream",
     "text": [
      "1.1.5 1.5.4 1.19.5\n"
     ]
    }
   ],
   "source": [
    "from IPython.display import display, Image\n",
    "import pandas as pd\n",
    "import numpy as np\n",
    "import scipy as sp\n",
    "from scipy.sparse import csr_matrix\n",
    "\n",
    "print(pd.__version__, sp.__version__, np.__version__)"
   ]
  },
  {
   "cell_type": "markdown",
   "id": "d53fa7c3",
   "metadata": {},
   "source": [
    "# Solutions"
   ]
  },
  {
   "cell_type": "code",
   "execution_count": 11,
   "id": "6105be35",
   "metadata": {
    "ExecuteTime": {
     "end_time": "2023-03-01T14:52:55.429771Z",
     "start_time": "2023-03-01T14:52:55.406861Z"
    }
   },
   "outputs": [
    {
     "data": {
      "text/html": [
       "<div>\n",
       "<style scoped>\n",
       "    .dataframe tbody tr th:only-of-type {\n",
       "        vertical-align: middle;\n",
       "    }\n",
       "\n",
       "    .dataframe tbody tr th {\n",
       "        vertical-align: top;\n",
       "    }\n",
       "\n",
       "    .dataframe thead th {\n",
       "        text-align: right;\n",
       "    }\n",
       "</style>\n",
       "<table border=\"1\" class=\"dataframe\">\n",
       "  <thead>\n",
       "    <tr style=\"text-align: right;\">\n",
       "      <th></th>\n",
       "      <th>user_id</th>\n",
       "      <th>streamer_id</th>\n",
       "      <th>interaction</th>\n",
       "    </tr>\n",
       "  </thead>\n",
       "  <tbody>\n",
       "    <tr>\n",
       "      <th>0</th>\n",
       "      <td>u1</td>\n",
       "      <td>s1</td>\n",
       "      <td>5</td>\n",
       "    </tr>\n",
       "    <tr>\n",
       "      <th>1</th>\n",
       "      <td>u1</td>\n",
       "      <td>s2</td>\n",
       "      <td>1</td>\n",
       "    </tr>\n",
       "    <tr>\n",
       "      <th>2</th>\n",
       "      <td>u2</td>\n",
       "      <td>s1</td>\n",
       "      <td>10</td>\n",
       "    </tr>\n",
       "    <tr>\n",
       "      <th>3</th>\n",
       "      <td>u3</td>\n",
       "      <td>s2</td>\n",
       "      <td>1</td>\n",
       "    </tr>\n",
       "    <tr>\n",
       "      <th>4</th>\n",
       "      <td>u3</td>\n",
       "      <td>s3</td>\n",
       "      <td>5</td>\n",
       "    </tr>\n",
       "    <tr>\n",
       "      <th>5</th>\n",
       "      <td>u4</td>\n",
       "      <td>s3</td>\n",
       "      <td>1</td>\n",
       "    </tr>\n",
       "  </tbody>\n",
       "</table>\n",
       "</div>"
      ],
      "text/plain": [
       "  user_id streamer_id  interaction\n",
       "0      u1          s1            5\n",
       "1      u1          s2            1\n",
       "2      u2          s1           10\n",
       "3      u3          s2            1\n",
       "4      u3          s3            5\n",
       "5      u4          s3            1"
      ]
     },
     "execution_count": 11,
     "metadata": {},
     "output_type": "execute_result"
    }
   ],
   "source": [
    "# long format to sparse \n",
    "# Compressed Sparse Row matrix (csr)\n",
    "\n",
    "interactions = [\n",
    "    ('u1','s1',5),\n",
    "    ('u1','s2',1),\n",
    "    ('u2','s1',10),\n",
    "    ('u3','s2',1),\n",
    "    ('u3','s3',5),\n",
    "    ('u4','s3',1)\n",
    "]\n",
    "\n",
    "weighted_graph_pdf = pd.DataFrame.from_records(\n",
    "    interactions,\n",
    "    columns=['user_id','streamer_id','interaction']\n",
    ")\n",
    "weighted_graph_pdf"
   ]
  },
  {
   "cell_type": "code",
   "execution_count": 12,
   "id": "711de8f9",
   "metadata": {
    "ExecuteTime": {
     "end_time": "2023-03-01T14:52:55.577954Z",
     "start_time": "2023-03-01T14:52:55.545735Z"
    }
   },
   "outputs": [
    {
     "name": "stdout",
     "output_type": "stream",
     "text": [
      "<class 'pandas.core.frame.DataFrame'>\n",
      "Index: 4 entries, u1 to u4\n",
      "Data columns (total 3 columns):\n",
      " #   Column  Non-Null Count  Dtype           \n",
      "---  ------  --------------  -----           \n",
      " 0   s1      4 non-null      Sparse[int64, 0]\n",
      " 1   s2      4 non-null      Sparse[int64, 0]\n",
      " 2   s3      4 non-null      Sparse[int64, 0]\n",
      "dtypes: Sparse[int64, 0](3)\n",
      "memory usage: 104.0+ bytes\n"
     ]
    },
    {
     "data": {
      "text/html": [
       "<div>\n",
       "<style scoped>\n",
       "    .dataframe tbody tr th:only-of-type {\n",
       "        vertical-align: middle;\n",
       "    }\n",
       "\n",
       "    .dataframe tbody tr th {\n",
       "        vertical-align: top;\n",
       "    }\n",
       "\n",
       "    .dataframe thead th {\n",
       "        text-align: right;\n",
       "    }\n",
       "</style>\n",
       "<table border=\"1\" class=\"dataframe\">\n",
       "  <thead>\n",
       "    <tr style=\"text-align: right;\">\n",
       "      <th>streamer_id</th>\n",
       "      <th>s1</th>\n",
       "      <th>s2</th>\n",
       "      <th>s3</th>\n",
       "    </tr>\n",
       "    <tr>\n",
       "      <th>user_id</th>\n",
       "      <th></th>\n",
       "      <th></th>\n",
       "      <th></th>\n",
       "    </tr>\n",
       "  </thead>\n",
       "  <tbody>\n",
       "    <tr>\n",
       "      <th>u1</th>\n",
       "      <td>5</td>\n",
       "      <td>1</td>\n",
       "      <td>0</td>\n",
       "    </tr>\n",
       "    <tr>\n",
       "      <th>u2</th>\n",
       "      <td>10</td>\n",
       "      <td>0</td>\n",
       "      <td>0</td>\n",
       "    </tr>\n",
       "    <tr>\n",
       "      <th>u3</th>\n",
       "      <td>0</td>\n",
       "      <td>1</td>\n",
       "      <td>5</td>\n",
       "    </tr>\n",
       "    <tr>\n",
       "      <th>u4</th>\n",
       "      <td>0</td>\n",
       "      <td>0</td>\n",
       "      <td>1</td>\n",
       "    </tr>\n",
       "  </tbody>\n",
       "</table>\n",
       "</div>"
      ],
      "text/plain": [
       "streamer_id  s1  s2  s3\n",
       "user_id                \n",
       "u1            5   1   0\n",
       "u2           10   0   0\n",
       "u3            0   1   5\n",
       "u4            0   0   1"
      ]
     },
     "execution_count": 12,
     "metadata": {},
     "output_type": "execute_result"
    }
   ],
   "source": [
    "sparse_viewer_streamer_pdf = (\n",
    "    weighted_graph_pdf\n",
    "    .pivot(index='user_id',columns='streamer_id',values='interaction')\n",
    "    .fillna(0)\n",
    "    .astype(pd.SparseDtype(int, fill_value=0)) # float64 --> Sparse[int64, 0]\n",
    ")\n",
    "\n",
    "sparse_viewer_streamer_pdf.info()\n",
    "sparse_viewer_streamer_pdf"
   ]
  },
  {
   "cell_type": "code",
   "execution_count": 14,
   "id": "31c0b992",
   "metadata": {
    "ExecuteTime": {
     "end_time": "2023-03-01T14:52:59.517845Z",
     "start_time": "2023-03-01T14:52:59.498574Z"
    }
   },
   "outputs": [
    {
     "data": {
      "text/plain": [
       "array([[ 5,  1,  0],\n",
       "       [10,  0,  0],\n",
       "       [ 0,  1,  5],\n",
       "       [ 0,  0,  1]])"
      ]
     },
     "metadata": {},
     "output_type": "display_data"
    }
   ],
   "source": [
    "sparse_viewer_streamer_matrix = csr_matrix(\n",
    "    sparse_viewer_streamer_pdf\n",
    "    .sparse.to_coo()\n",
    ")\n",
    "display(sparse_viewer_streamer_matrix.toarray())"
   ]
  },
  {
   "cell_type": "code",
   "execution_count": null,
   "id": "1a608aef",
   "metadata": {},
   "outputs": [],
   "source": []
  },
  {
   "cell_type": "code",
   "execution_count": null,
   "id": "bf60166b",
   "metadata": {},
   "outputs": [],
   "source": []
  },
  {
   "cell_type": "code",
   "execution_count": null,
   "id": "697338df",
   "metadata": {},
   "outputs": [],
   "source": []
  }
 ],
 "metadata": {
  "kernelspec": {
   "display_name": "data-pipeline",
   "language": "python",
   "name": "data-pipeline"
  },
  "language_info": {
   "codemirror_mode": {
    "name": "ipython",
    "version": 3
   },
   "file_extension": ".py",
   "mimetype": "text/x-python",
   "name": "python",
   "nbconvert_exporter": "python",
   "pygments_lexer": "ipython3",
   "version": "3.6.10"
  },
  "toc": {
   "base_numbering": 1,
   "nav_menu": {},
   "number_sections": true,
   "sideBar": true,
   "skip_h1_title": false,
   "title_cell": "Table of Contents",
   "title_sidebar": "Contents",
   "toc_cell": false,
   "toc_position": {},
   "toc_section_display": true,
   "toc_window_display": false
  }
 },
 "nbformat": 4,
 "nbformat_minor": 5
}
