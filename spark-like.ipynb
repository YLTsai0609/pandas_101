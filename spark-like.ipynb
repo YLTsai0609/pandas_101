{
 "cells": [
  {
   "cell_type": "code",
   "execution_count": 1,
   "id": "b10e9940",
   "metadata": {
    "ExecuteTime": {
     "end_time": "2023-04-28T08:41:18.389485Z",
     "start_time": "2023-04-28T08:41:17.999743Z"
    }
   },
   "outputs": [],
   "source": [
    "# Data manipulation\n",
    "import pandas as pd\n",
    "import numpy as np\n",
    "import pendulum as plm\n",
    "\n",
    "# Options for pandas\n",
    "pd.options.display.max_columns = 50\n",
    "pd.options.display.max_rows = 30"
   ]
  },
  {
   "cell_type": "markdown",
   "id": "fde5d79f-fc10-4509-8547-abc2d8eae94a",
   "metadata": {},
   "source": [
    "# Groupby & Aggs"
   ]
  },
  {
   "cell_type": "code",
   "execution_count": 2,
   "id": "1ebe030b",
   "metadata": {
    "ExecuteTime": {
     "end_time": "2023-04-28T08:36:24.783417Z",
     "start_time": "2023-04-28T08:36:24.735925Z"
    }
   },
   "outputs": [
    {
     "data": {
      "text/html": [
       "<div>\n",
       "<style scoped>\n",
       "    .dataframe tbody tr th:only-of-type {\n",
       "        vertical-align: middle;\n",
       "    }\n",
       "\n",
       "    .dataframe tbody tr th {\n",
       "        vertical-align: top;\n",
       "    }\n",
       "\n",
       "    .dataframe thead th {\n",
       "        text-align: right;\n",
       "    }\n",
       "</style>\n",
       "<table border=\"1\" class=\"dataframe\">\n",
       "  <thead>\n",
       "    <tr style=\"text-align: right;\">\n",
       "      <th></th>\n",
       "      <th>col1</th>\n",
       "      <th>sum_col2</th>\n",
       "      <th>distict_col2</th>\n",
       "      <th>collect_list_col3</th>\n",
       "      <th>collect_list_sampled_5_col3</th>\n",
       "    </tr>\n",
       "  </thead>\n",
       "  <tbody>\n",
       "    <tr>\n",
       "      <th>0</th>\n",
       "      <td>apple</td>\n",
       "      <td>17.152439</td>\n",
       "      <td>30.0</td>\n",
       "      <td>[4, 11, 11, 0, 9, 1, 6, 5, 5, 13, 10, 8, 1, 12...</td>\n",
       "      <td>[11, 2, 11, 3, 5]</td>\n",
       "    </tr>\n",
       "    <tr>\n",
       "      <th>1</th>\n",
       "      <td>banana</td>\n",
       "      <td>15.567389</td>\n",
       "      <td>30.0</td>\n",
       "      <td>[2, 10, 0, 12, 0, 14, 5, 7, 10, 8, 0, 6, 14, 6...</td>\n",
       "      <td>[9, 11, 13, 7, 10]</td>\n",
       "    </tr>\n",
       "    <tr>\n",
       "      <th>2</th>\n",
       "      <td>orange</td>\n",
       "      <td>15.407019</td>\n",
       "      <td>30.0</td>\n",
       "      <td>[9, 13, 4, 11, 4, 2, 12, 3, 0, 3, 4, 8, 0, 1, ...</td>\n",
       "      <td>[9, 11, 11, 4, 0]</td>\n",
       "    </tr>\n",
       "  </tbody>\n",
       "</table>\n",
       "</div>"
      ],
      "text/plain": [
       "     col1   sum_col2  distict_col2  \\\n",
       "0   apple  17.152439          30.0   \n",
       "1  banana  15.567389          30.0   \n",
       "2  orange  15.407019          30.0   \n",
       "\n",
       "                                   collect_list_col3  \\\n",
       "0  [4, 11, 11, 0, 9, 1, 6, 5, 5, 13, 10, 8, 1, 12...   \n",
       "1  [2, 10, 0, 12, 0, 14, 5, 7, 10, 8, 0, 6, 14, 6...   \n",
       "2  [9, 13, 4, 11, 4, 2, 12, 3, 0, 3, 4, 8, 0, 1, ...   \n",
       "\n",
       "  collect_list_sampled_5_col3  \n",
       "0           [11, 2, 11, 3, 5]  \n",
       "1          [9, 11, 13, 7, 10]  \n",
       "2           [9, 11, 11, 4, 0]  "
      ]
     },
     "execution_count": 2,
     "metadata": {},
     "output_type": "execute_result"
    }
   ],
   "source": [
    "# 1 groupby\n",
    "\n",
    "df = pd.DataFrame({'col1': ['apple', 'banana', 'orange'] * 30,\n",
    "                   'col2': np.random.rand(90),\n",
    "                   'col3': np.random.randint(0, 15, 90)})\n",
    "\n",
    "# groupby.agg(new_col_name = ('colname',agg_func on pd.Series))\n",
    "\n",
    "(\n",
    "    df\n",
    "    .groupby('col1',as_index=False)\n",
    "    .agg(\n",
    "        sum_col2 = ('col2',np.sum), # perform aggregation\n",
    "        distict_col2 = ('col2',lambda x: x.nunique()),\n",
    "        collect_list_col3 = ('col3',lambda x : x.tolist()),\n",
    "        collect_list_sampled_5_col3 = ('col3',lambda x : x.sample(5,random_state=42).tolist())\n",
    "    )\n",
    ")"
   ]
  },
  {
   "cell_type": "code",
   "execution_count": 3,
   "id": "74ca0b19",
   "metadata": {
    "ExecuteTime": {
     "end_time": "2023-04-28T08:36:24.796221Z",
     "start_time": "2023-04-28T08:36:24.785420Z"
    }
   },
   "outputs": [
    {
     "data": {
      "text/html": [
       "<div>\n",
       "<style scoped>\n",
       "    .dataframe tbody tr th:only-of-type {\n",
       "        vertical-align: middle;\n",
       "    }\n",
       "\n",
       "    .dataframe tbody tr th {\n",
       "        vertical-align: top;\n",
       "    }\n",
       "\n",
       "    .dataframe thead th {\n",
       "        text-align: right;\n",
       "    }\n",
       "</style>\n",
       "<table border=\"1\" class=\"dataframe\">\n",
       "  <thead>\n",
       "    <tr style=\"text-align: right;\">\n",
       "      <th></th>\n",
       "      <th>col1</th>\n",
       "      <th>col2</th>\n",
       "      <th>col3</th>\n",
       "      <th>col4</th>\n",
       "    </tr>\n",
       "  </thead>\n",
       "  <tbody>\n",
       "    <tr>\n",
       "      <th>0</th>\n",
       "      <td>apple</td>\n",
       "      <td>0.787933</td>\n",
       "      <td>7</td>\n",
       "      <td>0_5</td>\n",
       "    </tr>\n",
       "    <tr>\n",
       "      <th>1</th>\n",
       "      <td>banana</td>\n",
       "      <td>0.391749</td>\n",
       "      <td>6</td>\n",
       "      <td>0_5</td>\n",
       "    </tr>\n",
       "    <tr>\n",
       "      <th>2</th>\n",
       "      <td>orange</td>\n",
       "      <td>0.754910</td>\n",
       "      <td>10</td>\n",
       "      <td>0_5</td>\n",
       "    </tr>\n",
       "    <tr>\n",
       "      <th>3</th>\n",
       "      <td>apple</td>\n",
       "      <td>0.226709</td>\n",
       "      <td>2</td>\n",
       "      <td>0_5</td>\n",
       "    </tr>\n",
       "    <tr>\n",
       "      <th>4</th>\n",
       "      <td>banana</td>\n",
       "      <td>0.861418</td>\n",
       "      <td>13</td>\n",
       "      <td>0_5</td>\n",
       "    </tr>\n",
       "  </tbody>\n",
       "</table>\n",
       "</div>"
      ],
      "text/plain": [
       "     col1      col2  col3 col4\n",
       "0   apple  0.787933     7  0_5\n",
       "1  banana  0.391749     6  0_5\n",
       "2  orange  0.754910    10  0_5\n",
       "3   apple  0.226709     2  0_5\n",
       "4  banana  0.861418    13  0_5"
      ]
     },
     "execution_count": 3,
     "metadata": {},
     "output_type": "execute_result"
    }
   ],
   "source": [
    "# case when pattern\n",
    "\n",
    "df = pd.DataFrame({'col1': ['apple', 'banana', 'orange'] * 30,\n",
    "                   'col2': np.random.rand(90),\n",
    "                   'col3': np.random.randint(0, 15, 90)})\n",
    "\n",
    "df = (\n",
    "    df\n",
    "    .assign(\n",
    "        col4 = (\n",
    "           np.where(df['col2'] <= 5, '0_5',\n",
    "           np.where(df['col2'] <= 15,'6_15',\n",
    "           np.where(df['col2'] <= 25,'16_25',\n",
    "           np.where(df['col2'] <= 50,'25_50',\n",
    "           np.where(df['col2'] <= 100,'50_100',\n",
    "            '100_'\n",
    "                    )))))))\n",
    ")\n",
    "\n",
    "df.head()"
   ]
  },
  {
   "cell_type": "code",
   "execution_count": null,
   "id": "138bd107",
   "metadata": {},
   "outputs": [],
   "source": []
  },
  {
   "cell_type": "markdown",
   "id": "d7326cd2-c61d-4a56-9cfe-a6073f4aaeac",
   "metadata": {
    "ExecuteTime": {
     "end_time": "2023-04-28T08:45:14.712019Z",
     "start_time": "2023-04-28T08:45:14.693045Z"
    }
   },
   "source": [
    "# Where (Query)"
   ]
  },
  {
   "cell_type": "code",
   "execution_count": 4,
   "id": "50dc4809",
   "metadata": {
    "ExecuteTime": {
     "end_time": "2023-04-28T08:56:53.099897Z",
     "start_time": "2023-04-28T08:56:52.840774Z"
    }
   },
   "outputs": [
    {
     "name": "stdout",
     "output_type": "stream",
     "text": [
      "<class 'pandas.core.frame.DataFrame'>\n",
      "RangeIndex: 90 entries, 0 to 89\n",
      "Data columns (total 4 columns):\n",
      " #   Column    Non-Null Count  Dtype         \n",
      "---  ------    --------------  -----         \n",
      " 0   col1      90 non-null     object        \n",
      " 1   col2      90 non-null     float64       \n",
      " 2   col3      90 non-null     int64         \n",
      " 3   time_col  90 non-null     datetime64[ns]\n",
      "dtypes: datetime64[ns](1), float64(1), int64(1), object(1)\n",
      "memory usage: 2.9+ KB\n"
     ]
    },
    {
     "data": {
      "text/html": [
       "<div>\n",
       "<style scoped>\n",
       "    .dataframe tbody tr th:only-of-type {\n",
       "        vertical-align: middle;\n",
       "    }\n",
       "\n",
       "    .dataframe tbody tr th {\n",
       "        vertical-align: top;\n",
       "    }\n",
       "\n",
       "    .dataframe thead th {\n",
       "        text-align: right;\n",
       "    }\n",
       "</style>\n",
       "<table border=\"1\" class=\"dataframe\">\n",
       "  <thead>\n",
       "    <tr style=\"text-align: right;\">\n",
       "      <th></th>\n",
       "      <th>col1</th>\n",
       "      <th>col2</th>\n",
       "      <th>col3</th>\n",
       "      <th>time_col</th>\n",
       "    </tr>\n",
       "  </thead>\n",
       "  <tbody>\n",
       "    <tr>\n",
       "      <th>0</th>\n",
       "      <td>apple</td>\n",
       "      <td>0.601081</td>\n",
       "      <td>12.0</td>\n",
       "      <td>2023-01-01</td>\n",
       "    </tr>\n",
       "  </tbody>\n",
       "</table>\n",
       "</div>"
      ],
      "text/plain": [
       "    col1      col2  col3   time_col\n",
       "0  apple  0.601081  12.0 2023-01-01"
      ]
     },
     "execution_count": 4,
     "metadata": {},
     "output_type": "execute_result"
    }
   ],
   "source": [
    "# where pattern\n",
    "\n",
    "\n",
    "def create_datetime(start = plm.DateTime(2023,1,1),ndays = 90):\n",
    "    start = start\n",
    "    ndays = 90\n",
    "    end = start.add(ndays)\n",
    "    return [dt for dt in plm.period(start,end).range('days')]\n",
    "\n",
    "\n",
    "\n",
    "df = pd.DataFrame({'col1': ['apple', 'banana', 'orange'] * 30,\n",
    "                   'col2': np.random.rand(90),\n",
    "                   'col3': np.random.randint(0, 15, 90),\n",
    "                   'time_col' : create_datetime()[:90]\n",
    "                  })\n",
    "\n",
    "df.info()\n",
    "\n",
    "(\n",
    "    df\n",
    "    .where(\n",
    "    pd.to_datetime(df['time_col'],infer_datetime_format=True) < '2023-01-02'\n",
    "    )\n",
    "    .dropna(subset=['time_col'])\n",
    ")\n",
    "                  "
   ]
  },
  {
   "cell_type": "code",
   "execution_count": null,
   "id": "ccd27711",
   "metadata": {},
   "outputs": [],
   "source": []
  },
  {
   "cell_type": "markdown",
   "id": "61d782a7-090e-4800-8892-e787aea7fc80",
   "metadata": {},
   "source": [
    "# Assign new column, rename, and join\n",
    "* merge\n",
    "* assign - lambda df\n",
    "* rename"
   ]
  },
  {
   "cell_type": "code",
   "execution_count": 5,
   "id": "8fc8c747",
   "metadata": {},
   "outputs": [],
   "source": [
    "# 定義 video_company_pdf DataFrame\n",
    "data_video_company = {\n",
    "    \"video_id_c\": [1, 2, 3, 4],\n",
    "    \"recommend_id_c\": [\"A\", \"B\", \"C\", \"D\"],\n",
    "    \"company_id\": [101, 102, 103, 104],\n",
    "    \"status\": [\"active\", \"inactive\", \"active\", \"inactive\"]\n",
    "}\n",
    "\n",
    "video_company_pdf = pd.DataFrame(data_video_company)\n",
    "\n",
    "# 定義 approved_video_pdf DataFrame\n",
    "data_approved_video = {\n",
    "    \"video_id\": [1, 3],\n",
    "    \"status\": [\"approved\", \"rejected\"]\n",
    "}\n",
    "\n",
    "approved_video_pdf = pd.DataFrame(data_approved_video)\n"
   ]
  },
  {
   "cell_type": "code",
   "execution_count": 7,
   "id": "5c1bf4fe",
   "metadata": {},
   "outputs": [
    {
     "data": {
      "text/html": [
       "<div>\n",
       "<style scoped>\n",
       "    .dataframe tbody tr th:only-of-type {\n",
       "        vertical-align: middle;\n",
       "    }\n",
       "\n",
       "    .dataframe tbody tr th {\n",
       "        vertical-align: top;\n",
       "    }\n",
       "\n",
       "    .dataframe thead th {\n",
       "        text-align: right;\n",
       "    }\n",
       "</style>\n",
       "<table border=\"1\" class=\"dataframe\">\n",
       "  <thead>\n",
       "    <tr style=\"text-align: right;\">\n",
       "      <th></th>\n",
       "      <th>video_id_c</th>\n",
       "      <th>recommend_id_c</th>\n",
       "      <th>company_id</th>\n",
       "      <th>status</th>\n",
       "    </tr>\n",
       "  </thead>\n",
       "  <tbody>\n",
       "    <tr>\n",
       "      <th>0</th>\n",
       "      <td>1</td>\n",
       "      <td>A</td>\n",
       "      <td>101</td>\n",
       "      <td>approved</td>\n",
       "    </tr>\n",
       "    <tr>\n",
       "      <th>1</th>\n",
       "      <td>2</td>\n",
       "      <td>B</td>\n",
       "      <td>102</td>\n",
       "      <td>inactive</td>\n",
       "    </tr>\n",
       "    <tr>\n",
       "      <th>2</th>\n",
       "      <td>3</td>\n",
       "      <td>C</td>\n",
       "      <td>103</td>\n",
       "      <td>rejected</td>\n",
       "    </tr>\n",
       "    <tr>\n",
       "      <th>3</th>\n",
       "      <td>4</td>\n",
       "      <td>D</td>\n",
       "      <td>104</td>\n",
       "      <td>inactive</td>\n",
       "    </tr>\n",
       "  </tbody>\n",
       "</table>\n",
       "</div>"
      ],
      "text/plain": [
       "   video_id_c recommend_id_c  company_id    status\n",
       "0           1              A         101  approved\n",
       "1           2              B         102  inactive\n",
       "2           3              C         103  rejected\n",
       "3           4              D         104  inactive"
      ]
     },
     "execution_count": 7,
     "metadata": {},
     "output_type": "execute_result"
    }
   ],
   "source": [
    "result_df = (\n",
    "    video_company_pdf.filter(\n",
    "        [\"video_id_c\", \"recommend_id_c\", \"company_id\", \"status\"]\n",
    "    )\n",
    "    .rename(columns={\"status\": \"lagged_status\"})\n",
    "    .merge(\n",
    "        (\n",
    "            approved_video_pdf.filter([\"video_id\", \"status\"]).rename(\n",
    "                columns={\"status\": \"latest_status\"}\n",
    "            )\n",
    "        ),\n",
    "        left_on=[\"video_id_c\"],\n",
    "        right_on=[\"video_id\"],\n",
    "        how=\"left\",\n",
    "    )\n",
    "    .assign(\n",
    "        status=lambda df: df[\"latest_status\"].combine_first(df[\"lagged_status\"])\n",
    "    )\n",
    "    .filter([\"video_id_c\", \"recommend_id_c\", \"company_id\", \"status\"])\n",
    ")\n",
    "\n",
    "result_df"
   ]
  },
  {
   "cell_type": "code",
   "execution_count": null,
   "id": "b10025bf-e4df-467e-a8ff-5bda29f6d5a8",
   "metadata": {},
   "outputs": [],
   "source": []
  }
 ],
 "metadata": {
  "kernelspec": {
   "display_name": "cp_spark_ml",
   "language": "python",
   "name": "cp_spark_ml"
  },
  "language_info": {
   "codemirror_mode": {
    "name": "ipython",
    "version": 3
   },
   "file_extension": ".py",
   "mimetype": "text/x-python",
   "name": "python",
   "nbconvert_exporter": "python",
   "pygments_lexer": "ipython3",
   "version": "3.8.10"
  },
  "toc": {
   "base_numbering": 1,
   "nav_menu": {},
   "number_sections": true,
   "sideBar": true,
   "skip_h1_title": false,
   "title_cell": "Table of Contents",
   "title_sidebar": "Contents",
   "toc_cell": false,
   "toc_position": {},
   "toc_section_display": true,
   "toc_window_display": false
  }
 },
 "nbformat": 4,
 "nbformat_minor": 5
}
