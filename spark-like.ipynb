{
 "cells": [
  {
   "cell_type": "code",
   "execution_count": 2,
   "id": "b10e9940",
   "metadata": {
    "ExecuteTime": {
     "end_time": "2023-03-23T14:14:25.151986Z",
     "start_time": "2023-03-23T14:14:25.137568Z"
    }
   },
   "outputs": [],
   "source": [
    "# Data manipulation\n",
    "import pandas as pd\n",
    "import numpy as np\n",
    "\n",
    "# Options for pandas\n",
    "pd.options.display.max_columns = 50\n",
    "pd.options.display.max_rows = 30"
   ]
  },
  {
   "cell_type": "code",
   "execution_count": null,
   "id": "93a6345b",
   "metadata": {},
   "outputs": [],
   "source": []
  },
  {
   "cell_type": "code",
   "execution_count": 17,
   "id": "1ebe030b",
   "metadata": {
    "ExecuteTime": {
     "end_time": "2023-03-23T14:23:53.366258Z",
     "start_time": "2023-03-23T14:23:53.323689Z"
    }
   },
   "outputs": [
    {
     "data": {
      "text/html": [
       "<div>\n",
       "<style scoped>\n",
       "    .dataframe tbody tr th:only-of-type {\n",
       "        vertical-align: middle;\n",
       "    }\n",
       "\n",
       "    .dataframe tbody tr th {\n",
       "        vertical-align: top;\n",
       "    }\n",
       "\n",
       "    .dataframe thead th {\n",
       "        text-align: right;\n",
       "    }\n",
       "</style>\n",
       "<table border=\"1\" class=\"dataframe\">\n",
       "  <thead>\n",
       "    <tr style=\"text-align: right;\">\n",
       "      <th></th>\n",
       "      <th>col1</th>\n",
       "      <th>sum_col2</th>\n",
       "      <th>distict_col2</th>\n",
       "      <th>collect_list_col3</th>\n",
       "      <th>collect_list_sampled_5_col3</th>\n",
       "    </tr>\n",
       "  </thead>\n",
       "  <tbody>\n",
       "    <tr>\n",
       "      <th>0</th>\n",
       "      <td>apple</td>\n",
       "      <td>14.081394</td>\n",
       "      <td>30.0</td>\n",
       "      <td>[4, 8, 11, 14, 14, 2, 11, 3, 11, 6, 9, 4, 9, 1...</td>\n",
       "      <td>[11, 11, 12, 13, 11]</td>\n",
       "    </tr>\n",
       "    <tr>\n",
       "      <th>1</th>\n",
       "      <td>banana</td>\n",
       "      <td>15.594545</td>\n",
       "      <td>30.0</td>\n",
       "      <td>[3, 8, 0, 12, 14, 5, 14, 0, 10, 4, 1, 4, 8, 14...</td>\n",
       "      <td>[12, 2, 12, 7, 10]</td>\n",
       "    </tr>\n",
       "    <tr>\n",
       "      <th>2</th>\n",
       "      <td>orange</td>\n",
       "      <td>13.339478</td>\n",
       "      <td>30.0</td>\n",
       "      <td>[13, 6, 12, 4, 8, 9, 1, 9, 7, 11, 2, 8, 13, 0,...</td>\n",
       "      <td>[6, 11, 14, 6, 7]</td>\n",
       "    </tr>\n",
       "  </tbody>\n",
       "</table>\n",
       "</div>"
      ],
      "text/plain": [
       "     col1   sum_col2  distict_col2  \\\n",
       "0   apple  14.081394          30.0   \n",
       "1  banana  15.594545          30.0   \n",
       "2  orange  13.339478          30.0   \n",
       "\n",
       "                                   collect_list_col3  \\\n",
       "0  [4, 8, 11, 14, 14, 2, 11, 3, 11, 6, 9, 4, 9, 1...   \n",
       "1  [3, 8, 0, 12, 14, 5, 14, 0, 10, 4, 1, 4, 8, 14...   \n",
       "2  [13, 6, 12, 4, 8, 9, 1, 9, 7, 11, 2, 8, 13, 0,...   \n",
       "\n",
       "  collect_list_sampled_5_col3  \n",
       "0        [11, 11, 12, 13, 11]  \n",
       "1          [12, 2, 12, 7, 10]  \n",
       "2           [6, 11, 14, 6, 7]  "
      ]
     },
     "execution_count": 17,
     "metadata": {},
     "output_type": "execute_result"
    }
   ],
   "source": [
    "# 1 groupby\n",
    "\n",
    "df = pd.DataFrame({'col1': ['apple', 'banana', 'orange'] * 30,\n",
    "                   'col2': np.random.rand(90),\n",
    "                   'col3': np.random.randint(0, 15, 90)})\n",
    "\n",
    "# groupby.agg(new_col_name = ('colname',agg_func on pd.Series))\n",
    "\n",
    "(\n",
    "    df\n",
    "    .groupby('col1',as_index=False)\n",
    "    .agg(\n",
    "        sum_col2 = ('col2',np.sum), # perform aggregation\n",
    "        distict_col2 = ('col2',lambda x: x.nunique()),\n",
    "        collect_list_col3 = ('col3',lambda x : x.tolist()),\n",
    "        collect_list_sampled_5_col3 = ('col3',lambda x : x.sample(5,random_state=42).tolist())\n",
    "    )\n",
    ")"
   ]
  },
  {
   "cell_type": "code",
   "execution_count": 15,
   "id": "74ca0b19",
   "metadata": {
    "ExecuteTime": {
     "end_time": "2023-03-23T14:22:12.671005Z",
     "start_time": "2023-03-23T14:22:12.645034Z"
    }
   },
   "outputs": [
    {
     "data": {
      "text/html": [
       "<div>\n",
       "<style scoped>\n",
       "    .dataframe tbody tr th:only-of-type {\n",
       "        vertical-align: middle;\n",
       "    }\n",
       "\n",
       "    .dataframe tbody tr th {\n",
       "        vertical-align: top;\n",
       "    }\n",
       "\n",
       "    .dataframe thead th {\n",
       "        text-align: right;\n",
       "    }\n",
       "</style>\n",
       "<table border=\"1\" class=\"dataframe\">\n",
       "  <thead>\n",
       "    <tr style=\"text-align: right;\">\n",
       "      <th></th>\n",
       "      <th>col1</th>\n",
       "      <th>col2</th>\n",
       "      <th>col3</th>\n",
       "      <th>col4</th>\n",
       "    </tr>\n",
       "  </thead>\n",
       "  <tbody>\n",
       "    <tr>\n",
       "      <th>0</th>\n",
       "      <td>apple</td>\n",
       "      <td>0.339015</td>\n",
       "      <td>14</td>\n",
       "      <td>0_5</td>\n",
       "    </tr>\n",
       "    <tr>\n",
       "      <th>1</th>\n",
       "      <td>banana</td>\n",
       "      <td>0.830994</td>\n",
       "      <td>10</td>\n",
       "      <td>0_5</td>\n",
       "    </tr>\n",
       "    <tr>\n",
       "      <th>2</th>\n",
       "      <td>orange</td>\n",
       "      <td>0.063289</td>\n",
       "      <td>4</td>\n",
       "      <td>0_5</td>\n",
       "    </tr>\n",
       "    <tr>\n",
       "      <th>3</th>\n",
       "      <td>apple</td>\n",
       "      <td>0.807601</td>\n",
       "      <td>11</td>\n",
       "      <td>0_5</td>\n",
       "    </tr>\n",
       "    <tr>\n",
       "      <th>4</th>\n",
       "      <td>banana</td>\n",
       "      <td>0.421484</td>\n",
       "      <td>8</td>\n",
       "      <td>0_5</td>\n",
       "    </tr>\n",
       "  </tbody>\n",
       "</table>\n",
       "</div>"
      ],
      "text/plain": [
       "     col1      col2  col3 col4\n",
       "0   apple  0.339015    14  0_5\n",
       "1  banana  0.830994    10  0_5\n",
       "2  orange  0.063289     4  0_5\n",
       "3   apple  0.807601    11  0_5\n",
       "4  banana  0.421484     8  0_5"
      ]
     },
     "execution_count": 15,
     "metadata": {},
     "output_type": "execute_result"
    }
   ],
   "source": [
    "# case when pattern\n",
    "\n",
    "df = pd.DataFrame({'col1': ['apple', 'banana', 'orange'] * 30,\n",
    "                   'col2': np.random.rand(90),\n",
    "                   'col3': np.random.randint(0, 15, 90)})\n",
    "\n",
    "df = (\n",
    "    df\n",
    "    .assign(\n",
    "        col4 = (\n",
    "           np.where(df['col2'] <= 5, '0_5',\n",
    "           np.where(df['col2'] <= 15,'6_15',\n",
    "           np.where(df['col2'] <= 25,'16_25',\n",
    "           np.where(df['col2'] <= 50,'25_50',\n",
    "           np.where(df['col2'] <= 100,'50_100',\n",
    "            '100_'\n",
    "                    )))))))\n",
    ")\n",
    "\n",
    "df.head()"
   ]
  },
  {
   "cell_type": "code",
   "execution_count": null,
   "id": "138bd107",
   "metadata": {},
   "outputs": [],
   "source": []
  },
  {
   "cell_type": "code",
   "execution_count": null,
   "id": "e2262707",
   "metadata": {},
   "outputs": [],
   "source": []
  },
  {
   "cell_type": "code",
   "execution_count": null,
   "id": "50dc4809",
   "metadata": {},
   "outputs": [],
   "source": []
  },
  {
   "cell_type": "code",
   "execution_count": null,
   "id": "628b4e3c",
   "metadata": {},
   "outputs": [],
   "source": []
  },
  {
   "cell_type": "code",
   "execution_count": null,
   "id": "ccd27711",
   "metadata": {},
   "outputs": [],
   "source": []
  },
  {
   "cell_type": "code",
   "execution_count": null,
   "id": "64fb125c",
   "metadata": {},
   "outputs": [],
   "source": []
  },
  {
   "cell_type": "code",
   "execution_count": null,
   "id": "8fc8c747",
   "metadata": {},
   "outputs": [],
   "source": []
  },
  {
   "cell_type": "code",
   "execution_count": null,
   "id": "5c1bf4fe",
   "metadata": {},
   "outputs": [],
   "source": []
  }
 ],
 "metadata": {
  "kernelspec": {
   "display_name": "Python 3",
   "language": "python",
   "name": "python3"
  },
  "language_info": {
   "codemirror_mode": {
    "name": "ipython",
    "version": 3
   },
   "file_extension": ".py",
   "mimetype": "text/x-python",
   "name": "python",
   "nbconvert_exporter": "python",
   "pygments_lexer": "ipython3",
   "version": "3.6.10"
  },
  "toc": {
   "base_numbering": 1,
   "nav_menu": {},
   "number_sections": true,
   "sideBar": true,
   "skip_h1_title": false,
   "title_cell": "Table of Contents",
   "title_sidebar": "Contents",
   "toc_cell": false,
   "toc_position": {},
   "toc_section_display": true,
   "toc_window_display": false
  }
 },
 "nbformat": 4,
 "nbformat_minor": 5
}
