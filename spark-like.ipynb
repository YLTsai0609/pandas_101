{
 "cells": [
  {
   "cell_type": "code",
   "execution_count": 2,
   "id": "fdbcaf45",
   "metadata": {
    "ExecuteTime": {
     "end_time": "2023-03-23T14:14:25.151986Z",
     "start_time": "2023-03-23T14:14:25.137568Z"
    }
   },
   "outputs": [],
   "source": [
    "# Data manipulation\n",
    "import pandas as pd\n",
    "import numpy as np\n",
    "\n",
    "# Options for pandas\n",
    "pd.options.display.max_columns = 50\n",
    "pd.options.display.max_rows = 30"
   ]
  },
  {
   "cell_type": "code",
   "execution_count": null,
   "id": "dd70a8af",
   "metadata": {},
   "outputs": [],
   "source": []
  },
  {
   "cell_type": "code",
   "execution_count": 13,
   "id": "8cae0f3d",
   "metadata": {
    "ExecuteTime": {
     "end_time": "2023-03-23T14:19:45.198843Z",
     "start_time": "2023-03-23T14:19:45.152028Z"
    }
   },
   "outputs": [
    {
     "data": {
      "text/html": [
       "<div>\n",
       "<style scoped>\n",
       "    .dataframe tbody tr th:only-of-type {\n",
       "        vertical-align: middle;\n",
       "    }\n",
       "\n",
       "    .dataframe tbody tr th {\n",
       "        vertical-align: top;\n",
       "    }\n",
       "\n",
       "    .dataframe thead th {\n",
       "        text-align: right;\n",
       "    }\n",
       "</style>\n",
       "<table border=\"1\" class=\"dataframe\">\n",
       "  <thead>\n",
       "    <tr style=\"text-align: right;\">\n",
       "      <th></th>\n",
       "      <th>sum_col2</th>\n",
       "      <th>distict_col2</th>\n",
       "      <th>collect_list_col3</th>\n",
       "      <th>collect_list_sampled_5_col3</th>\n",
       "    </tr>\n",
       "    <tr>\n",
       "      <th>col1</th>\n",
       "      <th></th>\n",
       "      <th></th>\n",
       "      <th></th>\n",
       "      <th></th>\n",
       "    </tr>\n",
       "  </thead>\n",
       "  <tbody>\n",
       "    <tr>\n",
       "      <th>apple</th>\n",
       "      <td>17.375621</td>\n",
       "      <td>30.0</td>\n",
       "      <td>[3, 0, 9, 2, 12, 0, 2, 2, 3, 7, 11, 10, 0, 9, ...</td>\n",
       "      <td>[10, 14, 0]</td>\n",
       "    </tr>\n",
       "    <tr>\n",
       "      <th>banana</th>\n",
       "      <td>16.334772</td>\n",
       "      <td>30.0</td>\n",
       "      <td>[0, 4, 1, 9, 6, 7, 7, 7, 9, 10, 9, 0, 9, 14, 1...</td>\n",
       "      <td>[12, 11, 12]</td>\n",
       "    </tr>\n",
       "    <tr>\n",
       "      <th>orange</th>\n",
       "      <td>15.642433</td>\n",
       "      <td>30.0</td>\n",
       "      <td>[10, 10, 10, 4, 14, 1, 5, 14, 4, 12, 9, 7, 3, ...</td>\n",
       "      <td>[7, 13, 14]</td>\n",
       "    </tr>\n",
       "  </tbody>\n",
       "</table>\n",
       "</div>"
      ],
      "text/plain": [
       "         sum_col2  distict_col2  \\\n",
       "col1                              \n",
       "apple   17.375621          30.0   \n",
       "banana  16.334772          30.0   \n",
       "orange  15.642433          30.0   \n",
       "\n",
       "                                        collect_list_col3  \\\n",
       "col1                                                        \n",
       "apple   [3, 0, 9, 2, 12, 0, 2, 2, 3, 7, 11, 10, 0, 9, ...   \n",
       "banana  [0, 4, 1, 9, 6, 7, 7, 7, 9, 10, 9, 0, 9, 14, 1...   \n",
       "orange  [10, 10, 10, 4, 14, 1, 5, 14, 4, 12, 9, 7, 3, ...   \n",
       "\n",
       "       collect_list_sampled_5_col3  \n",
       "col1                                \n",
       "apple                  [10, 14, 0]  \n",
       "banana                [12, 11, 12]  \n",
       "orange                 [7, 13, 14]  "
      ]
     },
     "execution_count": 13,
     "metadata": {},
     "output_type": "execute_result"
    }
   ],
   "source": [
    "# 1 groupby\n",
    "\n",
    "df = pd.DataFrame({'col1': ['apple', 'banana', 'orange'] * 30,\n",
    "                   'col2': np.random.rand(90),\n",
    "                   'col3': np.random.randint(0, 15, 90)})\n",
    "\n",
    "# groupby.agg(new_col_name = ('colname',agg_func on pd.Series))\n",
    "\n",
    "(\n",
    "    df\n",
    "    .groupby('col1')\n",
    "    .agg(\n",
    "        sum_col2 = ('col2',np.sum), # perform aggregation\n",
    "        distict_col2 = ('col2',lambda x: x.nunique()),\n",
    "        collect_list_col3 = ('col3',lambda x : x.tolist()),\n",
    "        collect_list_sampled_5_col3 = ('col3',lambda x : x.sample(3).tolist())\n",
    "    )\n",
    ")"
   ]
  },
  {
   "cell_type": "code",
   "execution_count": 15,
   "id": "8702f3e7",
   "metadata": {
    "ExecuteTime": {
     "end_time": "2023-03-23T14:22:12.671005Z",
     "start_time": "2023-03-23T14:22:12.645034Z"
    }
   },
   "outputs": [
    {
     "data": {
      "text/html": [
       "<div>\n",
       "<style scoped>\n",
       "    .dataframe tbody tr th:only-of-type {\n",
       "        vertical-align: middle;\n",
       "    }\n",
       "\n",
       "    .dataframe tbody tr th {\n",
       "        vertical-align: top;\n",
       "    }\n",
       "\n",
       "    .dataframe thead th {\n",
       "        text-align: right;\n",
       "    }\n",
       "</style>\n",
       "<table border=\"1\" class=\"dataframe\">\n",
       "  <thead>\n",
       "    <tr style=\"text-align: right;\">\n",
       "      <th></th>\n",
       "      <th>col1</th>\n",
       "      <th>col2</th>\n",
       "      <th>col3</th>\n",
       "      <th>col4</th>\n",
       "    </tr>\n",
       "  </thead>\n",
       "  <tbody>\n",
       "    <tr>\n",
       "      <th>0</th>\n",
       "      <td>apple</td>\n",
       "      <td>0.339015</td>\n",
       "      <td>14</td>\n",
       "      <td>0_5</td>\n",
       "    </tr>\n",
       "    <tr>\n",
       "      <th>1</th>\n",
       "      <td>banana</td>\n",
       "      <td>0.830994</td>\n",
       "      <td>10</td>\n",
       "      <td>0_5</td>\n",
       "    </tr>\n",
       "    <tr>\n",
       "      <th>2</th>\n",
       "      <td>orange</td>\n",
       "      <td>0.063289</td>\n",
       "      <td>4</td>\n",
       "      <td>0_5</td>\n",
       "    </tr>\n",
       "    <tr>\n",
       "      <th>3</th>\n",
       "      <td>apple</td>\n",
       "      <td>0.807601</td>\n",
       "      <td>11</td>\n",
       "      <td>0_5</td>\n",
       "    </tr>\n",
       "    <tr>\n",
       "      <th>4</th>\n",
       "      <td>banana</td>\n",
       "      <td>0.421484</td>\n",
       "      <td>8</td>\n",
       "      <td>0_5</td>\n",
       "    </tr>\n",
       "  </tbody>\n",
       "</table>\n",
       "</div>"
      ],
      "text/plain": [
       "     col1      col2  col3 col4\n",
       "0   apple  0.339015    14  0_5\n",
       "1  banana  0.830994    10  0_5\n",
       "2  orange  0.063289     4  0_5\n",
       "3   apple  0.807601    11  0_5\n",
       "4  banana  0.421484     8  0_5"
      ]
     },
     "execution_count": 15,
     "metadata": {},
     "output_type": "execute_result"
    }
   ],
   "source": [
    "# case when pattern\n",
    "\n",
    "df = pd.DataFrame({'col1': ['apple', 'banana', 'orange'] * 30,\n",
    "                   'col2': np.random.rand(90),\n",
    "                   'col3': np.random.randint(0, 15, 90)})\n",
    "\n",
    "df = (\n",
    "    df\n",
    "    .assign(\n",
    "        col4 = (\n",
    "           np.where(df['col2'] <= 5, '0_5',\n",
    "           np.where(df['col2'] <= 15,'6_15',\n",
    "           np.where(df['col2'] <= 25,'16_25',\n",
    "           np.where(df['col2'] <= 50,'25_50',\n",
    "           np.where(df['col2'] <= 100,'50_100',\n",
    "            '100_'\n",
    "                    )))))))\n",
    ")\n",
    "\n",
    "df.head()"
   ]
  },
  {
   "cell_type": "code",
   "execution_count": null,
   "id": "e67eb74d",
   "metadata": {},
   "outputs": [],
   "source": []
  },
  {
   "cell_type": "code",
   "execution_count": null,
   "id": "236f304e",
   "metadata": {},
   "outputs": [],
   "source": []
  },
  {
   "cell_type": "code",
   "execution_count": null,
   "id": "b92ef451",
   "metadata": {},
   "outputs": [],
   "source": []
  },
  {
   "cell_type": "code",
   "execution_count": null,
   "id": "b5dfa950",
   "metadata": {},
   "outputs": [],
   "source": []
  },
  {
   "cell_type": "code",
   "execution_count": null,
   "id": "050e2f99",
   "metadata": {},
   "outputs": [],
   "source": []
  },
  {
   "cell_type": "code",
   "execution_count": null,
   "id": "96767e82",
   "metadata": {},
   "outputs": [],
   "source": []
  },
  {
   "cell_type": "code",
   "execution_count": null,
   "id": "7fbe5759",
   "metadata": {},
   "outputs": [],
   "source": []
  },
  {
   "cell_type": "code",
   "execution_count": null,
   "id": "663022ea",
   "metadata": {},
   "outputs": [],
   "source": []
  }
 ],
 "metadata": {
  "kernelspec": {
   "display_name": "Python 3",
   "language": "python",
   "name": "python3"
  },
  "language_info": {
   "codemirror_mode": {
    "name": "ipython",
    "version": 3
   },
   "file_extension": ".py",
   "mimetype": "text/x-python",
   "name": "python",
   "nbconvert_exporter": "python",
   "pygments_lexer": "ipython3",
   "version": "3.6.10"
  },
  "toc": {
   "base_numbering": 1,
   "nav_menu": {},
   "number_sections": true,
   "sideBar": true,
   "skip_h1_title": false,
   "title_cell": "Table of Contents",
   "title_sidebar": "Contents",
   "toc_cell": false,
   "toc_position": {},
   "toc_section_display": true,
   "toc_window_display": false
  }
 },
 "nbformat": 4,
 "nbformat_minor": 5
}
