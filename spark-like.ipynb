{
 "cells": [
  {
   "cell_type": "code",
   "execution_count": 1,
   "id": "b10e9940",
   "metadata": {
    "ExecuteTime": {
     "end_time": "2023-04-28T08:41:18.389485Z",
     "start_time": "2023-04-28T08:41:17.999743Z"
    }
   },
   "outputs": [],
   "source": [
    "# Data manipulation\n",
    "import pandas as pd\n",
    "import numpy as np\n",
    "import pendulum as plm\n",
    "\n",
    "# Options for pandas\n",
    "pd.options.display.max_columns = 50\n",
    "pd.options.display.max_rows = 30"
   ]
  },
  {
   "cell_type": "code",
   "execution_count": null,
   "id": "93a6345b",
   "metadata": {},
   "outputs": [],
   "source": []
  },
  {
   "cell_type": "code",
   "execution_count": 2,
   "id": "1ebe030b",
   "metadata": {
    "ExecuteTime": {
     "end_time": "2023-04-28T08:36:24.783417Z",
     "start_time": "2023-04-28T08:36:24.735925Z"
    }
   },
   "outputs": [
    {
     "data": {
      "text/html": [
       "<div>\n",
       "<style scoped>\n",
       "    .dataframe tbody tr th:only-of-type {\n",
       "        vertical-align: middle;\n",
       "    }\n",
       "\n",
       "    .dataframe tbody tr th {\n",
       "        vertical-align: top;\n",
       "    }\n",
       "\n",
       "    .dataframe thead th {\n",
       "        text-align: right;\n",
       "    }\n",
       "</style>\n",
       "<table border=\"1\" class=\"dataframe\">\n",
       "  <thead>\n",
       "    <tr style=\"text-align: right;\">\n",
       "      <th></th>\n",
       "      <th>col1</th>\n",
       "      <th>sum_col2</th>\n",
       "      <th>distict_col2</th>\n",
       "      <th>collect_list_col3</th>\n",
       "      <th>collect_list_sampled_5_col3</th>\n",
       "    </tr>\n",
       "  </thead>\n",
       "  <tbody>\n",
       "    <tr>\n",
       "      <th>0</th>\n",
       "      <td>apple</td>\n",
       "      <td>16.534381</td>\n",
       "      <td>30.0</td>\n",
       "      <td>[2, 2, 0, 1, 6, 9, 12, 9, 9, 10, 3, 8, 6, 11, ...</td>\n",
       "      <td>[3, 11, 12, 14, 9]</td>\n",
       "    </tr>\n",
       "    <tr>\n",
       "      <th>1</th>\n",
       "      <td>banana</td>\n",
       "      <td>13.328910</td>\n",
       "      <td>30.0</td>\n",
       "      <td>[11, 5, 12, 0, 11, 12, 12, 13, 7, 10, 12, 0, 1...</td>\n",
       "      <td>[1, 3, 11, 1, 7]</td>\n",
       "    </tr>\n",
       "    <tr>\n",
       "      <th>2</th>\n",
       "      <td>orange</td>\n",
       "      <td>16.422880</td>\n",
       "      <td>30.0</td>\n",
       "      <td>[7, 11, 12, 1, 2, 6, 13, 3, 10, 9, 12, 0, 0, 7...</td>\n",
       "      <td>[8, 14, 4, 13, 10]</td>\n",
       "    </tr>\n",
       "  </tbody>\n",
       "</table>\n",
       "</div>"
      ],
      "text/plain": [
       "     col1   sum_col2  distict_col2  \\\n",
       "0   apple  16.534381          30.0   \n",
       "1  banana  13.328910          30.0   \n",
       "2  orange  16.422880          30.0   \n",
       "\n",
       "                                   collect_list_col3  \\\n",
       "0  [2, 2, 0, 1, 6, 9, 12, 9, 9, 10, 3, 8, 6, 11, ...   \n",
       "1  [11, 5, 12, 0, 11, 12, 12, 13, 7, 10, 12, 0, 1...   \n",
       "2  [7, 11, 12, 1, 2, 6, 13, 3, 10, 9, 12, 0, 0, 7...   \n",
       "\n",
       "  collect_list_sampled_5_col3  \n",
       "0          [3, 11, 12, 14, 9]  \n",
       "1            [1, 3, 11, 1, 7]  \n",
       "2          [8, 14, 4, 13, 10]  "
      ]
     },
     "execution_count": 2,
     "metadata": {},
     "output_type": "execute_result"
    }
   ],
   "source": [
    "# 1 groupby\n",
    "\n",
    "df = pd.DataFrame({'col1': ['apple', 'banana', 'orange'] * 30,\n",
    "                   'col2': np.random.rand(90),\n",
    "                   'col3': np.random.randint(0, 15, 90)})\n",
    "\n",
    "# groupby.agg(new_col_name = ('colname',agg_func on pd.Series))\n",
    "\n",
    "(\n",
    "    df\n",
    "    .groupby('col1',as_index=False)\n",
    "    .agg(\n",
    "        sum_col2 = ('col2',np.sum), # perform aggregation\n",
    "        distict_col2 = ('col2',lambda x: x.nunique()),\n",
    "        collect_list_col3 = ('col3',lambda x : x.tolist()),\n",
    "        collect_list_sampled_5_col3 = ('col3',lambda x : x.sample(5,random_state=42).tolist())\n",
    "    )\n",
    ")"
   ]
  },
  {
   "cell_type": "code",
   "execution_count": 3,
   "id": "74ca0b19",
   "metadata": {
    "ExecuteTime": {
     "end_time": "2023-04-28T08:36:24.796221Z",
     "start_time": "2023-04-28T08:36:24.785420Z"
    }
   },
   "outputs": [
    {
     "data": {
      "text/html": [
       "<div>\n",
       "<style scoped>\n",
       "    .dataframe tbody tr th:only-of-type {\n",
       "        vertical-align: middle;\n",
       "    }\n",
       "\n",
       "    .dataframe tbody tr th {\n",
       "        vertical-align: top;\n",
       "    }\n",
       "\n",
       "    .dataframe thead th {\n",
       "        text-align: right;\n",
       "    }\n",
       "</style>\n",
       "<table border=\"1\" class=\"dataframe\">\n",
       "  <thead>\n",
       "    <tr style=\"text-align: right;\">\n",
       "      <th></th>\n",
       "      <th>col1</th>\n",
       "      <th>col2</th>\n",
       "      <th>col3</th>\n",
       "      <th>col4</th>\n",
       "    </tr>\n",
       "  </thead>\n",
       "  <tbody>\n",
       "    <tr>\n",
       "      <th>0</th>\n",
       "      <td>apple</td>\n",
       "      <td>0.881429</td>\n",
       "      <td>4</td>\n",
       "      <td>0_5</td>\n",
       "    </tr>\n",
       "    <tr>\n",
       "      <th>1</th>\n",
       "      <td>banana</td>\n",
       "      <td>0.974353</td>\n",
       "      <td>4</td>\n",
       "      <td>0_5</td>\n",
       "    </tr>\n",
       "    <tr>\n",
       "      <th>2</th>\n",
       "      <td>orange</td>\n",
       "      <td>0.985837</td>\n",
       "      <td>9</td>\n",
       "      <td>0_5</td>\n",
       "    </tr>\n",
       "    <tr>\n",
       "      <th>3</th>\n",
       "      <td>apple</td>\n",
       "      <td>0.824506</td>\n",
       "      <td>9</td>\n",
       "      <td>0_5</td>\n",
       "    </tr>\n",
       "    <tr>\n",
       "      <th>4</th>\n",
       "      <td>banana</td>\n",
       "      <td>0.581750</td>\n",
       "      <td>5</td>\n",
       "      <td>0_5</td>\n",
       "    </tr>\n",
       "  </tbody>\n",
       "</table>\n",
       "</div>"
      ],
      "text/plain": [
       "     col1      col2  col3 col4\n",
       "0   apple  0.881429     4  0_5\n",
       "1  banana  0.974353     4  0_5\n",
       "2  orange  0.985837     9  0_5\n",
       "3   apple  0.824506     9  0_5\n",
       "4  banana  0.581750     5  0_5"
      ]
     },
     "execution_count": 3,
     "metadata": {},
     "output_type": "execute_result"
    }
   ],
   "source": [
    "# case when pattern\n",
    "\n",
    "df = pd.DataFrame({'col1': ['apple', 'banana', 'orange'] * 30,\n",
    "                   'col2': np.random.rand(90),\n",
    "                   'col3': np.random.randint(0, 15, 90)})\n",
    "\n",
    "df = (\n",
    "    df\n",
    "    .assign(\n",
    "        col4 = (\n",
    "           np.where(df['col2'] <= 5, '0_5',\n",
    "           np.where(df['col2'] <= 15,'6_15',\n",
    "           np.where(df['col2'] <= 25,'16_25',\n",
    "           np.where(df['col2'] <= 50,'25_50',\n",
    "           np.where(df['col2'] <= 100,'50_100',\n",
    "            '100_'\n",
    "                    )))))))\n",
    ")\n",
    "\n",
    "df.head()"
   ]
  },
  {
   "cell_type": "code",
   "execution_count": null,
   "id": "138bd107",
   "metadata": {},
   "outputs": [],
   "source": []
  },
  {
   "cell_type": "code",
   "execution_count": 7,
   "id": "e4085652",
   "metadata": {
    "ExecuteTime": {
     "end_time": "2023-04-28T08:45:14.712019Z",
     "start_time": "2023-04-28T08:45:14.693045Z"
    }
   },
   "outputs": [],
   "source": []
  },
  {
   "cell_type": "code",
   "execution_count": 22,
   "id": "50dc4809",
   "metadata": {
    "ExecuteTime": {
     "end_time": "2023-04-28T08:56:53.099897Z",
     "start_time": "2023-04-28T08:56:52.840774Z"
    }
   },
   "outputs": [
    {
     "name": "stdout",
     "output_type": "stream",
     "text": [
      "<class 'pandas.core.frame.DataFrame'>\n",
      "RangeIndex: 90 entries, 0 to 89\n",
      "Data columns (total 4 columns):\n",
      " #   Column    Non-Null Count  Dtype         \n",
      "---  ------    --------------  -----         \n",
      " 0   col1      90 non-null     object        \n",
      " 1   col2      90 non-null     float64       \n",
      " 2   col3      90 non-null     int64         \n",
      " 3   time_col  90 non-null     datetime64[ns]\n",
      "dtypes: datetime64[ns](1), float64(1), int64(1), object(1)\n",
      "memory usage: 2.9+ KB\n"
     ]
    },
    {
     "data": {
      "text/html": [
       "<div>\n",
       "<style scoped>\n",
       "    .dataframe tbody tr th:only-of-type {\n",
       "        vertical-align: middle;\n",
       "    }\n",
       "\n",
       "    .dataframe tbody tr th {\n",
       "        vertical-align: top;\n",
       "    }\n",
       "\n",
       "    .dataframe thead th {\n",
       "        text-align: right;\n",
       "    }\n",
       "</style>\n",
       "<table border=\"1\" class=\"dataframe\">\n",
       "  <thead>\n",
       "    <tr style=\"text-align: right;\">\n",
       "      <th></th>\n",
       "      <th>col1</th>\n",
       "      <th>col2</th>\n",
       "      <th>col3</th>\n",
       "      <th>time_col</th>\n",
       "    </tr>\n",
       "  </thead>\n",
       "  <tbody>\n",
       "    <tr>\n",
       "      <th>0</th>\n",
       "      <td>apple</td>\n",
       "      <td>0.280618</td>\n",
       "      <td>9.0</td>\n",
       "      <td>2023-01-01</td>\n",
       "    </tr>\n",
       "  </tbody>\n",
       "</table>\n",
       "</div>"
      ],
      "text/plain": [
       "    col1      col2  col3   time_col\n",
       "0  apple  0.280618   9.0 2023-01-01"
      ]
     },
     "execution_count": 22,
     "metadata": {},
     "output_type": "execute_result"
    }
   ],
   "source": [
    "# where pattern\n",
    "\n",
    "\n",
    "def create_datetime(start = plm.DateTime(2023,1,1),ndays = 90):\n",
    "    start = start\n",
    "    ndays = 90\n",
    "    end = start.add(ndays)\n",
    "    return [dt for dt in plm.period(start,end).range('days')]\n",
    "\n",
    "\n",
    "\n",
    "df = pd.DataFrame({'col1': ['apple', 'banana', 'orange'] * 30,\n",
    "                   'col2': np.random.rand(90),\n",
    "                   'col3': np.random.randint(0, 15, 90),\n",
    "                   'time_col' : create_datetime()[:90]\n",
    "                  })\n",
    "\n",
    "df.info()\n",
    "\n",
    "(\n",
    "    df\n",
    "    .where(\n",
    "    pd.to_datetime(df['time_col'],infer_datetime_format=True) < '2023-01-02'\n",
    "    )\n",
    "    .dropna(subset=['time_col'])\n",
    ")\n",
    "                  "
   ]
  },
  {
   "cell_type": "code",
   "execution_count": null,
   "id": "ccd27711",
   "metadata": {},
   "outputs": [],
   "source": []
  },
  {
   "cell_type": "code",
   "execution_count": null,
   "id": "64fb125c",
   "metadata": {},
   "outputs": [],
   "source": []
  },
  {
   "cell_type": "code",
   "execution_count": null,
   "id": "8fc8c747",
   "metadata": {},
   "outputs": [],
   "source": []
  },
  {
   "cell_type": "code",
   "execution_count": null,
   "id": "5c1bf4fe",
   "metadata": {},
   "outputs": [],
   "source": []
  }
 ],
 "metadata": {
  "kernelspec": {
   "display_name": "data-pipeline",
   "language": "python",
   "name": "data-pipeline"
  },
  "language_info": {
   "codemirror_mode": {
    "name": "ipython",
    "version": 3
   },
   "file_extension": ".py",
   "mimetype": "text/x-python",
   "name": "python",
   "nbconvert_exporter": "python",
   "pygments_lexer": "ipython3",
   "version": "3.6.10"
  },
  "toc": {
   "base_numbering": 1,
   "nav_menu": {},
   "number_sections": true,
   "sideBar": true,
   "skip_h1_title": false,
   "title_cell": "Table of Contents",
   "title_sidebar": "Contents",
   "toc_cell": false,
   "toc_position": {},
   "toc_section_display": true,
   "toc_window_display": false
  }
 },
 "nbformat": 4,
 "nbformat_minor": 5
}
